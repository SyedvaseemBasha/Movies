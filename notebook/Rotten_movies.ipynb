{
 "cells": [
  {
   "cell_type": "code",
   "execution_count": 1,
   "metadata": {
    "colab": {
     "base_uri": "https://localhost:8080/"
    },
    "id": "nxkeXt5gcQQx",
    "outputId": "15a27492-8654-4fa3-d2e3-6f779bedb6eb"
   },
   "outputs": [
    {
     "name": "stdout",
     "output_type": "stream",
     "text": [
      "Requirement already satisfied: scikit-learn in c:\\users\\91939\\appdata\\local\\programs\\python\\python311\\lib\\site-packages (1.3.0)Note: you may need to restart the kernel to use updated packages.\n",
      "\n",
      "Requirement already satisfied: xgboost in c:\\users\\91939\\appdata\\local\\programs\\python\\python311\\lib\\site-packages (2.1.3)\n",
      "Requirement already satisfied: catboost in c:\\users\\91939\\appdata\\local\\programs\\python\\python311\\lib\\site-packages (1.2.7)\n",
      "Requirement already satisfied: numpy>=1.17.3 in c:\\users\\91939\\appdata\\local\\programs\\python\\python311\\lib\\site-packages (from scikit-learn) (1.25.1)\n",
      "Requirement already satisfied: scipy>=1.5.0 in c:\\users\\91939\\appdata\\local\\programs\\python\\python311\\lib\\site-packages (from scikit-learn) (1.9.3)\n",
      "Requirement already satisfied: joblib>=1.1.1 in c:\\users\\91939\\appdata\\local\\programs\\python\\python311\\lib\\site-packages (from scikit-learn) (1.3.1)\n",
      "Requirement already satisfied: threadpoolctl>=2.0.0 in c:\\users\\91939\\appdata\\local\\programs\\python\\python311\\lib\\site-packages (from scikit-learn) (3.5.0)\n",
      "Requirement already satisfied: graphviz in c:\\users\\91939\\appdata\\local\\programs\\python\\python311\\lib\\site-packages (from catboost) (0.20.3)\n",
      "Requirement already satisfied: matplotlib in c:\\users\\91939\\appdata\\local\\programs\\python\\python311\\lib\\site-packages (from catboost) (3.6.3)\n",
      "Requirement already satisfied: pandas>=0.24 in c:\\users\\91939\\appdata\\local\\programs\\python\\python311\\lib\\site-packages (from catboost) (2.0.3)\n",
      "Requirement already satisfied: plotly in c:\\users\\91939\\appdata\\local\\programs\\python\\python311\\lib\\site-packages (from catboost) (5.24.1)\n",
      "Requirement already satisfied: six in c:\\users\\91939\\appdata\\local\\programs\\python\\python311\\lib\\site-packages (from catboost) (1.16.0)\n",
      "Requirement already satisfied: python-dateutil>=2.8.2 in c:\\users\\91939\\appdata\\local\\programs\\python\\python311\\lib\\site-packages (from pandas>=0.24->catboost) (2.8.2)\n",
      "Requirement already satisfied: pytz>=2020.1 in c:\\users\\91939\\appdata\\local\\programs\\python\\python311\\lib\\site-packages (from pandas>=0.24->catboost) (2023.3)\n",
      "Requirement already satisfied: tzdata>=2022.1 in c:\\users\\91939\\appdata\\local\\programs\\python\\python311\\lib\\site-packages (from pandas>=0.24->catboost) (2023.3)\n",
      "Requirement already satisfied: contourpy>=1.0.1 in c:\\users\\91939\\appdata\\local\\programs\\python\\python311\\lib\\site-packages (from matplotlib->catboost) (1.1.1)\n",
      "Requirement already satisfied: cycler>=0.10 in c:\\users\\91939\\appdata\\local\\programs\\python\\python311\\lib\\site-packages (from matplotlib->catboost) (0.12.1)\n",
      "Requirement already satisfied: fonttools>=4.22.0 in c:\\users\\91939\\appdata\\local\\programs\\python\\python311\\lib\\site-packages (from matplotlib->catboost) (4.43.1)\n",
      "Requirement already satisfied: kiwisolver>=1.0.1 in c:\\users\\91939\\appdata\\local\\programs\\python\\python311\\lib\\site-packages (from matplotlib->catboost) (1.4.5)\n",
      "Requirement already satisfied: packaging>=20.0 in c:\\users\\91939\\appdata\\local\\programs\\python\\python311\\lib\\site-packages (from matplotlib->catboost) (24.1)\n",
      "Requirement already satisfied: pillow>=6.2.0 in c:\\users\\91939\\appdata\\local\\programs\\python\\python311\\lib\\site-packages (from matplotlib->catboost) (9.5.0)\n",
      "Requirement already satisfied: pyparsing>=2.2.1 in c:\\users\\91939\\appdata\\roaming\\python\\python311\\site-packages (from matplotlib->catboost) (3.1.2)\n",
      "Requirement already satisfied: tenacity>=6.2.0 in c:\\users\\91939\\appdata\\local\\programs\\python\\python311\\lib\\site-packages (from plotly->catboost) (8.5.0)\n"
     ]
    }
   ],
   "source": [
    "%pip install scikit-learn xgboost catboost"
   ]
  },
  {
   "cell_type": "code",
   "execution_count": 2,
   "metadata": {
    "id": "lV-ymcnBq4f8"
   },
   "outputs": [],
   "source": [
    "# Import necessary libraries\n",
    "import pandas as pd\n",
    "import numpy as np\n",
    "import re\n",
    "from sklearn.model_selection import train_test_split\n",
    "from sklearn.preprocessing import OneHotEncoder, StandardScaler\n",
    "from sklearn.compose import ColumnTransformer\n",
    "from sklearn.pipeline import Pipeline\n",
    "from sklearn.linear_model import LinearRegression\n",
    "from sklearn.metrics import mean_squared_error, r2_score\n",
    "import joblib\n",
    "from sklearn.model_selection import train_test_split\n",
    "from sklearn.feature_extraction.text import TfidfVectorizer\n",
    "from sklearn.linear_model import Ridge\n",
    "from sklearn.metrics import mean_squared_error\n",
    "from sklearn.model_selection import GridSearchCV\n",
    "from sklearn.linear_model import LinearRegression\n",
    "from sklearn.tree import DecisionTreeRegressor\n",
    "from sklearn.ensemble import RandomForestRegressor, GradientBoostingRegressor, AdaBoostRegressor \n",
    "from xgboost import XGBRegressor  # Assuming XGBRegressor is from xgboost\n",
    "from catboost import CatBoostRegressor  # Assuming CatBoostRegressor is from catboost"
   ]
  },
  {
   "cell_type": "code",
   "execution_count": 3,
   "metadata": {
    "id": "vd9xkh9KKvw5"
   },
   "outputs": [],
   "source": [
    "import pandas as pd\n",
    "import numpy as np\n",
    "import matplotlib.pyplot as plt\n",
    "import seaborn as sns\n",
    "import warnings\n",
    "warnings.filterwarnings('ignore')"
   ]
  },
  {
   "cell_type": "code",
   "execution_count": 4,
   "metadata": {
    "id": "Q0i4d6pQLVIO"
   },
   "outputs": [],
   "source": [
    "data = pd.read_csv('P:/ML_PROJECTS/movies/data/Rotten_Tomatoes_Movies3.csv')"
   ]
  },
  {
   "cell_type": "code",
   "execution_count": 5,
   "metadata": {
    "colab": {
     "base_uri": "https://localhost:8080/",
     "height": 305
    },
    "id": "xKswm4bmLzTz",
    "outputId": "e1fd13a8-37e7-420e-c1df-c713a07f9c11"
   },
   "outputs": [
    {
     "data": {
      "text/html": [
       "<div>\n",
       "<style scoped>\n",
       "    .dataframe tbody tr th:only-of-type {\n",
       "        vertical-align: middle;\n",
       "    }\n",
       "\n",
       "    .dataframe tbody tr th {\n",
       "        vertical-align: top;\n",
       "    }\n",
       "\n",
       "    .dataframe thead th {\n",
       "        text-align: right;\n",
       "    }\n",
       "</style>\n",
       "<table border=\"1\" class=\"dataframe\">\n",
       "  <thead>\n",
       "    <tr style=\"text-align: right;\">\n",
       "      <th></th>\n",
       "      <th>movie_title</th>\n",
       "      <th>movie_info</th>\n",
       "      <th>critics_consensus</th>\n",
       "      <th>rating</th>\n",
       "      <th>genre</th>\n",
       "      <th>directors</th>\n",
       "      <th>writers</th>\n",
       "      <th>cast</th>\n",
       "      <th>in_theaters_date</th>\n",
       "      <th>on_streaming_date</th>\n",
       "      <th>runtime_in_minutes</th>\n",
       "      <th>studio_name</th>\n",
       "      <th>tomatometer_status</th>\n",
       "      <th>tomatometer_rating</th>\n",
       "      <th>tomatometer_count</th>\n",
       "      <th>audience_rating</th>\n",
       "    </tr>\n",
       "  </thead>\n",
       "  <tbody>\n",
       "    <tr>\n",
       "      <th>11727</th>\n",
       "      <td>Reprisal</td>\n",
       "      <td>Jacob (Frank Grillo), a bank manager haunted b...</td>\n",
       "      <td>NaN</td>\n",
       "      <td>R</td>\n",
       "      <td>Action &amp; Adventure, Mystery &amp; Suspense</td>\n",
       "      <td>Brian A. Miller</td>\n",
       "      <td>Bryce Hammons</td>\n",
       "      <td>Bruce Willis, Frank Grillo, Johnathon Schaech,...</td>\n",
       "      <td>8/31/2018</td>\n",
       "      <td>10/16/2018</td>\n",
       "      <td>89.0</td>\n",
       "      <td>Lionsgate</td>\n",
       "      <td>Rotten</td>\n",
       "      <td>0</td>\n",
       "      <td>12</td>\n",
       "      <td>17.0</td>\n",
       "    </tr>\n",
       "    <tr>\n",
       "      <th>3926</th>\n",
       "      <td>Bugsy</td>\n",
       "      <td>Bugsy is a character study of mobster Benjamin...</td>\n",
       "      <td>Stylishly scattered, Bugsy offers cinematic ho...</td>\n",
       "      <td>R</td>\n",
       "      <td>Drama</td>\n",
       "      <td>Barry Levinson</td>\n",
       "      <td>James Toback</td>\n",
       "      <td>Warren Beatty, Annette Bening, Harvey Keitel, ...</td>\n",
       "      <td>12/13/1991</td>\n",
       "      <td>12/15/1998</td>\n",
       "      <td>136.0</td>\n",
       "      <td>Sony Pictures Home Entertainment</td>\n",
       "      <td>Certified Fresh</td>\n",
       "      <td>85</td>\n",
       "      <td>59</td>\n",
       "      <td>69.0</td>\n",
       "    </tr>\n",
       "  </tbody>\n",
       "</table>\n",
       "</div>"
      ],
      "text/plain": [
       "      movie_title                                         movie_info  \\\n",
       "11727    Reprisal  Jacob (Frank Grillo), a bank manager haunted b...   \n",
       "3926        Bugsy  Bugsy is a character study of mobster Benjamin...   \n",
       "\n",
       "                                       critics_consensus rating  \\\n",
       "11727                                                NaN      R   \n",
       "3926   Stylishly scattered, Bugsy offers cinematic ho...      R   \n",
       "\n",
       "                                        genre        directors        writers  \\\n",
       "11727  Action & Adventure, Mystery & Suspense  Brian A. Miller  Bryce Hammons   \n",
       "3926                                    Drama   Barry Levinson   James Toback   \n",
       "\n",
       "                                                    cast in_theaters_date  \\\n",
       "11727  Bruce Willis, Frank Grillo, Johnathon Schaech,...        8/31/2018   \n",
       "3926   Warren Beatty, Annette Bening, Harvey Keitel, ...       12/13/1991   \n",
       "\n",
       "      on_streaming_date  runtime_in_minutes                       studio_name  \\\n",
       "11727        10/16/2018                89.0                         Lionsgate   \n",
       "3926         12/15/1998               136.0  Sony Pictures Home Entertainment   \n",
       "\n",
       "      tomatometer_status  tomatometer_rating  tomatometer_count  \\\n",
       "11727             Rotten                   0                 12   \n",
       "3926     Certified Fresh                  85                 59   \n",
       "\n",
       "       audience_rating  \n",
       "11727             17.0  \n",
       "3926              69.0  "
      ]
     },
     "execution_count": 5,
     "metadata": {},
     "output_type": "execute_result"
    }
   ],
   "source": [
    "data.sample(2)"
   ]
  },
  {
   "cell_type": "code",
   "execution_count": 6,
   "metadata": {
    "colab": {
     "base_uri": "https://localhost:8080/"
    },
    "id": "_vHE9qiTM0iv",
    "outputId": "563fce55-a43b-4a21-a601-6238182a24eb"
   },
   "outputs": [
    {
     "name": "stdout",
     "output_type": "stream",
     "text": [
      "<class 'pandas.core.frame.DataFrame'>\n",
      "RangeIndex: 16638 entries, 0 to 16637\n",
      "Data columns (total 16 columns):\n",
      " #   Column              Non-Null Count  Dtype  \n",
      "---  ------              --------------  -----  \n",
      " 0   movie_title         16638 non-null  object \n",
      " 1   movie_info          16614 non-null  object \n",
      " 2   critics_consensus   8309 non-null   object \n",
      " 3   rating              16638 non-null  object \n",
      " 4   genre               16621 non-null  object \n",
      " 5   directors           16524 non-null  object \n",
      " 6   writers             15289 non-null  object \n",
      " 7   cast                16354 non-null  object \n",
      " 8   in_theaters_date    15823 non-null  object \n",
      " 9   on_streaming_date   16636 non-null  object \n",
      " 10  runtime_in_minutes  16483 non-null  float64\n",
      " 11  studio_name         16222 non-null  object \n",
      " 12  tomatometer_status  16638 non-null  object \n",
      " 13  tomatometer_rating  16638 non-null  int64  \n",
      " 14  tomatometer_count   16638 non-null  int64  \n",
      " 15  audience_rating     16386 non-null  float64\n",
      "dtypes: float64(2), int64(2), object(12)\n",
      "memory usage: 2.0+ MB\n"
     ]
    }
   ],
   "source": [
    "data.info()"
   ]
  },
  {
   "cell_type": "code",
   "execution_count": 7,
   "metadata": {
    "colab": {
     "base_uri": "https://localhost:8080/",
     "height": 300
    },
    "id": "BUtPjOPQUCxI",
    "outputId": "3300f2a3-b4d7-4499-c943-b4f0baea38ae"
   },
   "outputs": [
    {
     "data": {
      "text/html": [
       "<div>\n",
       "<style scoped>\n",
       "    .dataframe tbody tr th:only-of-type {\n",
       "        vertical-align: middle;\n",
       "    }\n",
       "\n",
       "    .dataframe tbody tr th {\n",
       "        vertical-align: top;\n",
       "    }\n",
       "\n",
       "    .dataframe thead th {\n",
       "        text-align: right;\n",
       "    }\n",
       "</style>\n",
       "<table border=\"1\" class=\"dataframe\">\n",
       "  <thead>\n",
       "    <tr style=\"text-align: right;\">\n",
       "      <th></th>\n",
       "      <th>runtime_in_minutes</th>\n",
       "      <th>tomatometer_rating</th>\n",
       "      <th>tomatometer_count</th>\n",
       "      <th>audience_rating</th>\n",
       "    </tr>\n",
       "  </thead>\n",
       "  <tbody>\n",
       "    <tr>\n",
       "      <th>count</th>\n",
       "      <td>16483.000000</td>\n",
       "      <td>16638.000000</td>\n",
       "      <td>16638.000000</td>\n",
       "      <td>16386.000000</td>\n",
       "    </tr>\n",
       "    <tr>\n",
       "      <th>mean</th>\n",
       "      <td>102.391494</td>\n",
       "      <td>60.466522</td>\n",
       "      <td>56.607104</td>\n",
       "      <td>60.470829</td>\n",
       "    </tr>\n",
       "    <tr>\n",
       "      <th>std</th>\n",
       "      <td>25.028011</td>\n",
       "      <td>28.587230</td>\n",
       "      <td>66.383800</td>\n",
       "      <td>20.462368</td>\n",
       "    </tr>\n",
       "    <tr>\n",
       "      <th>min</th>\n",
       "      <td>1.000000</td>\n",
       "      <td>0.000000</td>\n",
       "      <td>5.000000</td>\n",
       "      <td>0.000000</td>\n",
       "    </tr>\n",
       "    <tr>\n",
       "      <th>25%</th>\n",
       "      <td>90.000000</td>\n",
       "      <td>38.000000</td>\n",
       "      <td>12.000000</td>\n",
       "      <td>45.000000</td>\n",
       "    </tr>\n",
       "    <tr>\n",
       "      <th>50%</th>\n",
       "      <td>99.000000</td>\n",
       "      <td>66.000000</td>\n",
       "      <td>28.000000</td>\n",
       "      <td>62.000000</td>\n",
       "    </tr>\n",
       "    <tr>\n",
       "      <th>75%</th>\n",
       "      <td>111.000000</td>\n",
       "      <td>86.000000</td>\n",
       "      <td>76.000000</td>\n",
       "      <td>77.000000</td>\n",
       "    </tr>\n",
       "    <tr>\n",
       "      <th>max</th>\n",
       "      <td>2000.000000</td>\n",
       "      <td>100.000000</td>\n",
       "      <td>497.000000</td>\n",
       "      <td>100.000000</td>\n",
       "    </tr>\n",
       "  </tbody>\n",
       "</table>\n",
       "</div>"
      ],
      "text/plain": [
       "       runtime_in_minutes  tomatometer_rating  tomatometer_count  \\\n",
       "count        16483.000000        16638.000000       16638.000000   \n",
       "mean           102.391494           60.466522          56.607104   \n",
       "std             25.028011           28.587230          66.383800   \n",
       "min              1.000000            0.000000           5.000000   \n",
       "25%             90.000000           38.000000          12.000000   \n",
       "50%             99.000000           66.000000          28.000000   \n",
       "75%            111.000000           86.000000          76.000000   \n",
       "max           2000.000000          100.000000         497.000000   \n",
       "\n",
       "       audience_rating  \n",
       "count     16386.000000  \n",
       "mean         60.470829  \n",
       "std          20.462368  \n",
       "min           0.000000  \n",
       "25%          45.000000  \n",
       "50%          62.000000  \n",
       "75%          77.000000  \n",
       "max         100.000000  "
      ]
     },
     "execution_count": 7,
     "metadata": {},
     "output_type": "execute_result"
    }
   ],
   "source": [
    "data.describe()"
   ]
  },
  {
   "cell_type": "code",
   "execution_count": 8,
   "metadata": {
    "colab": {
     "base_uri": "https://localhost:8080/",
     "height": 585
    },
    "id": "hQY4h8CzNiv4",
    "outputId": "9d162074-5019-4893-9daf-2d6bc781f3a4"
   },
   "outputs": [
    {
     "data": {
      "text/plain": [
       "movie_title              0\n",
       "movie_info              24\n",
       "critics_consensus     8329\n",
       "rating                   0\n",
       "genre                   17\n",
       "directors              114\n",
       "writers               1349\n",
       "cast                   284\n",
       "in_theaters_date       815\n",
       "on_streaming_date        2\n",
       "runtime_in_minutes     155\n",
       "studio_name            416\n",
       "tomatometer_status       0\n",
       "tomatometer_rating       0\n",
       "tomatometer_count        0\n",
       "audience_rating        252\n",
       "dtype: int64"
      ]
     },
     "execution_count": 8,
     "metadata": {},
     "output_type": "execute_result"
    }
   ],
   "source": [
    "data.isnull().sum()"
   ]
  },
  {
   "cell_type": "code",
   "execution_count": 9,
   "metadata": {
    "colab": {
     "base_uri": "https://localhost:8080/",
     "height": 585
    },
    "id": "HJkix_xiToGA",
    "outputId": "b5ba7685-8d99-4ef2-ed89-6ad2f8cf566a"
   },
   "outputs": [
    {
     "data": {
      "text/plain": [
       "movie_title            0.000000\n",
       "movie_info             0.144248\n",
       "critics_consensus     50.060103\n",
       "rating                 0.000000\n",
       "genre                  0.102176\n",
       "directors              0.685179\n",
       "writers                8.107946\n",
       "cast                   1.706936\n",
       "in_theaters_date       4.898425\n",
       "on_streaming_date      0.012021\n",
       "runtime_in_minutes     0.931602\n",
       "studio_name            2.500301\n",
       "tomatometer_status     0.000000\n",
       "tomatometer_rating     0.000000\n",
       "tomatometer_count      0.000000\n",
       "audience_rating        1.514605\n",
       "dtype: float64"
      ]
     },
     "execution_count": 9,
     "metadata": {},
     "output_type": "execute_result"
    }
   ],
   "source": [
    "null_percentage = (data.isnull().sum() / len(data)) * 100\n",
    "null_percentage"
   ]
  },
  {
   "cell_type": "code",
   "execution_count": 10,
   "metadata": {
    "id": "UahWZ0zyXOuH"
   },
   "outputs": [],
   "source": [
    "df = data[['genre', 'runtime_in_minutes',\n",
    "                       'tomatometer_rating', 'tomatometer_count', 'audience_rating']]"
   ]
  },
  {
   "cell_type": "code",
   "execution_count": 11,
   "metadata": {
    "colab": {
     "base_uri": "https://localhost:8080/",
     "height": 293
    },
    "collapsed": true,
    "id": "Bqre9Sdmd1sz",
    "outputId": "728c49e4-f278-4675-cc02-4433ead0774c"
   },
   "outputs": [
    {
     "data": {
      "text/html": [
       "<div>\n",
       "<style scoped>\n",
       "    .dataframe tbody tr th:only-of-type {\n",
       "        vertical-align: middle;\n",
       "    }\n",
       "\n",
       "    .dataframe tbody tr th {\n",
       "        vertical-align: top;\n",
       "    }\n",
       "\n",
       "    .dataframe thead th {\n",
       "        text-align: right;\n",
       "    }\n",
       "</style>\n",
       "<table border=\"1\" class=\"dataframe\">\n",
       "  <thead>\n",
       "    <tr style=\"text-align: right;\">\n",
       "      <th></th>\n",
       "      <th>genre</th>\n",
       "      <th>runtime_in_minutes</th>\n",
       "      <th>tomatometer_rating</th>\n",
       "      <th>tomatometer_count</th>\n",
       "      <th>audience_rating</th>\n",
       "    </tr>\n",
       "  </thead>\n",
       "  <tbody>\n",
       "    <tr>\n",
       "      <th>0</th>\n",
       "      <td>Action &amp; Adventure, Comedy, Drama, Science Fic...</td>\n",
       "      <td>83.0</td>\n",
       "      <td>49</td>\n",
       "      <td>144</td>\n",
       "      <td>53.0</td>\n",
       "    </tr>\n",
       "    <tr>\n",
       "      <th>1</th>\n",
       "      <td>Comedy</td>\n",
       "      <td>90.0</td>\n",
       "      <td>86</td>\n",
       "      <td>140</td>\n",
       "      <td>64.0</td>\n",
       "    </tr>\n",
       "    <tr>\n",
       "      <th>2</th>\n",
       "      <td>Comedy, Romance</td>\n",
       "      <td>118.0</td>\n",
       "      <td>68</td>\n",
       "      <td>22</td>\n",
       "      <td>53.0</td>\n",
       "    </tr>\n",
       "    <tr>\n",
       "      <th>3</th>\n",
       "      <td>Classics, Drama</td>\n",
       "      <td>95.0</td>\n",
       "      <td>100</td>\n",
       "      <td>51</td>\n",
       "      <td>97.0</td>\n",
       "    </tr>\n",
       "    <tr>\n",
       "      <th>4</th>\n",
       "      <td>Action &amp; Adventure, Drama, Kids &amp; Family</td>\n",
       "      <td>127.0</td>\n",
       "      <td>89</td>\n",
       "      <td>27</td>\n",
       "      <td>74.0</td>\n",
       "    </tr>\n",
       "  </tbody>\n",
       "</table>\n",
       "</div>"
      ],
      "text/plain": [
       "                                               genre  runtime_in_minutes  \\\n",
       "0  Action & Adventure, Comedy, Drama, Science Fic...                83.0   \n",
       "1                                             Comedy                90.0   \n",
       "2                                    Comedy, Romance               118.0   \n",
       "3                                    Classics, Drama                95.0   \n",
       "4           Action & Adventure, Drama, Kids & Family               127.0   \n",
       "\n",
       "   tomatometer_rating  tomatometer_count  audience_rating  \n",
       "0                  49                144             53.0  \n",
       "1                  86                140             64.0  \n",
       "2                  68                 22             53.0  \n",
       "3                 100                 51             97.0  \n",
       "4                  89                 27             74.0  "
      ]
     },
     "execution_count": 11,
     "metadata": {},
     "output_type": "execute_result"
    }
   ],
   "source": [
    "df.head()"
   ]
  },
  {
   "cell_type": "code",
   "execution_count": 12,
   "metadata": {
    "colab": {
     "base_uri": "https://localhost:8080/",
     "height": 335
    },
    "id": "41FhYeNzfM0M",
    "outputId": "1a5f3097-cc9a-44e6-ea50-1a24553375f5"
   },
   "outputs": [
    {
     "data": {
      "text/plain": [
       "genre                  17\n",
       "runtime_in_minutes    155\n",
       "tomatometer_rating      0\n",
       "tomatometer_count       0\n",
       "audience_rating       252\n",
       "dtype: int64"
      ]
     },
     "execution_count": 12,
     "metadata": {},
     "output_type": "execute_result"
    }
   ],
   "source": [
    "df.isnull().sum()"
   ]
  },
  {
   "cell_type": "code",
   "execution_count": 13,
   "metadata": {
    "id": "UskxNkfPfMwX"
   },
   "outputs": [],
   "source": [
    "df = df.dropna(subset=['genre', 'runtime_in_minutes',\n",
    "                       'tomatometer_rating', 'tomatometer_count', 'audience_rating'])"
   ]
  },
  {
   "cell_type": "code",
   "execution_count": 14,
   "metadata": {
    "colab": {
     "base_uri": "https://localhost:8080/",
     "height": 335
    },
    "id": "ZEM1kdCwfMtk",
    "outputId": "8a79e415-6fd5-487b-ae17-3c3ee89e52a8"
   },
   "outputs": [
    {
     "data": {
      "text/plain": [
       "genre                 0\n",
       "runtime_in_minutes    0\n",
       "tomatometer_rating    0\n",
       "tomatometer_count     0\n",
       "audience_rating       0\n",
       "dtype: int64"
      ]
     },
     "execution_count": 14,
     "metadata": {},
     "output_type": "execute_result"
    }
   ],
   "source": [
    "df.isnull().sum()"
   ]
  },
  {
   "cell_type": "code",
   "execution_count": 15,
   "metadata": {
    "colab": {
     "base_uri": "https://localhost:8080/",
     "height": 293
    },
    "collapsed": true,
    "id": "409hmeVDhcxG",
    "outputId": "3d0a6a97-26d0-452b-f27f-407d6ae8e852"
   },
   "outputs": [
    {
     "data": {
      "text/html": [
       "<div>\n",
       "<style scoped>\n",
       "    .dataframe tbody tr th:only-of-type {\n",
       "        vertical-align: middle;\n",
       "    }\n",
       "\n",
       "    .dataframe tbody tr th {\n",
       "        vertical-align: top;\n",
       "    }\n",
       "\n",
       "    .dataframe thead th {\n",
       "        text-align: right;\n",
       "    }\n",
       "</style>\n",
       "<table border=\"1\" class=\"dataframe\">\n",
       "  <thead>\n",
       "    <tr style=\"text-align: right;\">\n",
       "      <th></th>\n",
       "      <th>genre</th>\n",
       "      <th>runtime_in_minutes</th>\n",
       "      <th>tomatometer_rating</th>\n",
       "      <th>tomatometer_count</th>\n",
       "      <th>audience_rating</th>\n",
       "    </tr>\n",
       "  </thead>\n",
       "  <tbody>\n",
       "    <tr>\n",
       "      <th>0</th>\n",
       "      <td>Action &amp; Adventure, Comedy, Drama, Science Fic...</td>\n",
       "      <td>83.0</td>\n",
       "      <td>49</td>\n",
       "      <td>144</td>\n",
       "      <td>53.0</td>\n",
       "    </tr>\n",
       "    <tr>\n",
       "      <th>1</th>\n",
       "      <td>Comedy</td>\n",
       "      <td>90.0</td>\n",
       "      <td>86</td>\n",
       "      <td>140</td>\n",
       "      <td>64.0</td>\n",
       "    </tr>\n",
       "    <tr>\n",
       "      <th>2</th>\n",
       "      <td>Comedy, Romance</td>\n",
       "      <td>118.0</td>\n",
       "      <td>68</td>\n",
       "      <td>22</td>\n",
       "      <td>53.0</td>\n",
       "    </tr>\n",
       "    <tr>\n",
       "      <th>3</th>\n",
       "      <td>Classics, Drama</td>\n",
       "      <td>95.0</td>\n",
       "      <td>100</td>\n",
       "      <td>51</td>\n",
       "      <td>97.0</td>\n",
       "    </tr>\n",
       "    <tr>\n",
       "      <th>4</th>\n",
       "      <td>Action &amp; Adventure, Drama, Kids &amp; Family</td>\n",
       "      <td>127.0</td>\n",
       "      <td>89</td>\n",
       "      <td>27</td>\n",
       "      <td>74.0</td>\n",
       "    </tr>\n",
       "  </tbody>\n",
       "</table>\n",
       "</div>"
      ],
      "text/plain": [
       "                                               genre  runtime_in_minutes  \\\n",
       "0  Action & Adventure, Comedy, Drama, Science Fic...                83.0   \n",
       "1                                             Comedy                90.0   \n",
       "2                                    Comedy, Romance               118.0   \n",
       "3                                    Classics, Drama                95.0   \n",
       "4           Action & Adventure, Drama, Kids & Family               127.0   \n",
       "\n",
       "   tomatometer_rating  tomatometer_count  audience_rating  \n",
       "0                  49                144             53.0  \n",
       "1                  86                140             64.0  \n",
       "2                  68                 22             53.0  \n",
       "3                 100                 51             97.0  \n",
       "4                  89                 27             74.0  "
      ]
     },
     "execution_count": 15,
     "metadata": {},
     "output_type": "execute_result"
    }
   ],
   "source": [
    "df.head()"
   ]
  },
  {
   "cell_type": "markdown",
   "metadata": {
    "id": "_qVE5ktJMcnj"
   },
   "source": [
    "Example pipeline:\n",
    "\n",
    "Preprocess text (TF-IDF) → Combine with numerical data → Train model (e.g., XGBoost, Ridge Regression)."
   ]
  },
  {
   "cell_type": "code",
   "execution_count": 17,
   "metadata": {
    "colab": {
     "base_uri": "https://localhost:8080/"
    },
    "id": "YD54KASMJxFq",
    "outputId": "a43c7ed1-e1b1-4452-ed9e-caa3967c4698"
   },
   "outputs": [
    {
     "name": "stdout",
     "output_type": "stream",
     "text": [
      "Mean Squared Error: 228.8175765668809\n",
      "R2 Score: 0.43652094134459296\n",
      "\n",
      "\n"
     ]
    }
   ],
   "source": [
    "# Assuming 'movie_info' is the text column and 'audience_rating' is the target\n",
    "X_text = df[['genre']].apply(lambda x: ' '.join(x.astype(str)), axis=1) # This line is modified\n",
    "y = df['audience_rating']\n",
    "\n",
    "# Numerical features\n",
    "X_numerical = df[['runtime_in_minutes', 'tomatometer_rating', 'tomatometer_count']]\n",
    "\n",
    "\n",
    "# TF-IDF Vectorization\n",
    "vectorizer = TfidfVectorizer(max_features=5000, stop_words='english')  # Adjust max_features as needed\n",
    "X_tfidf = vectorizer.fit_transform(X_text) # Pass the combined text data to fit_transform\n",
    "\n",
    "# Combine text and numerical features\n",
    "X_combined = np.hstack((X_tfidf.toarray(), X_numerical))\n",
    "\n",
    "# Split data\n",
    "X_train, X_test, y_train, y_test = train_test_split(X_combined, y, test_size=0.2, random_state=42)\n",
    "\n",
    "\n",
    "scaler = StandardScaler()\n",
    "X_train = scaler.fit_transform(X_train)\n",
    "X_test = scaler.transform(X_test)\n",
    "\n",
    "\n",
    "# Train Ridge Regression model\n",
    "model = Ridge()  # Adjust alpha as needed\n",
    "model.fit(X_train, y_train)\n",
    "\n",
    "# Make predictions\n",
    "y_pred = model.predict(X_test)\n",
    "\n",
    "# Evaluate the model\n",
    "mse = mean_squared_error(y_test, y_pred)\n",
    "r2 = r2_score(y_test, y_pred)\n",
    "print(f\"Mean Squared Error: {mse}\")\n",
    "print(\"R2 Score:\", r2)\n",
    "print(\"\\n\")"
   ]
  },
  {
   "cell_type": "code",
   "execution_count": 91,
   "metadata": {
    "colab": {
     "base_uri": "https://localhost:8080/"
    },
    "id": "4LdPofjrKya-",
    "outputId": "8fa2b140-c760-46e1-8e3e-e30e6c9f9ecc"
   },
   "outputs": [
    {
     "name": "stdout",
     "output_type": "stream",
     "text": [
      "Model: Ridge Regression\n",
      "Mean Squared Error: 228.8175765668809\n",
      "R2 Score: 0.43652094134459296\n",
      "\n",
      "\n",
      "Model: Random Forest\n",
      "Mean Squared Error: 212.85484180169902\n",
      "R2 Score: 0.4758302762916904\n",
      "\n",
      "\n",
      "Model: Decision Tree\n",
      "Mean Squared Error: 396.356788221195\n",
      "R2 Score: 0.02394408126562786\n",
      "\n",
      "\n",
      "Model: Gradient Boosting\n",
      "Mean Squared Error: 193.99159525461062\n",
      "R2 Score: 0.5222823214842565\n",
      "\n",
      "\n",
      "Model: Linear Regression\n",
      "Mean Squared Error: 228.992217976092\n",
      "R2 Score: 0.43609087483335285\n",
      "\n",
      "\n",
      "Model: XGBRegressor\n",
      "Mean Squared Error: 204.15062588244476\n",
      "R2 Score: 0.4972650081252443\n",
      "\n",
      "\n",
      "Model: CatBoosting Regressor\n",
      "Mean Squared Error: 193.69782068865362\n",
      "R2 Score: 0.5230057616078957\n",
      "\n",
      "\n",
      "Model: AdaBoost Regressor\n",
      "Mean Squared Error: 229.15875410848471\n",
      "R2 Score: 0.43568076812511525\n",
      "\n",
      "\n"
     ]
    }
   ],
   "source": [
    "models = {\n",
    "                \"Ridge Regression\": Ridge(),\n",
    "                \"Random Forest\": RandomForestRegressor(),\n",
    "                \"Decision Tree\": DecisionTreeRegressor(),\n",
    "                \"Gradient Boosting\": GradientBoostingRegressor(),\n",
    "                \"Linear Regression\": LinearRegression(),\n",
    "                \"XGBRegressor\": XGBRegressor(),\n",
    "                \"CatBoosting Regressor\": CatBoostRegressor(verbose=False),\n",
    "                \"AdaBoost Regressor\": AdaBoostRegressor(),\n",
    "            }\n",
    "\n",
    "for i,j in models.items():\n",
    "        model = models[i]\n",
    "        model.fit(X_train, y_train)\n",
    "        y_pred = model.predict(X_test)\n",
    "        mse = mean_squared_error(y_test, y_pred)\n",
    "        r2 = r2_score(y_test, y_pred)\n",
    "        print(f\"Model: {i}\")\n",
    "        print(\"Mean Squared Error:\", mse)\n",
    "        print(\"R2 Score:\", r2)\n",
    "        print(\"\\n\")"
   ]
  },
  {
   "cell_type": "code",
   "execution_count": 27,
   "metadata": {},
   "outputs": [
    {
     "name": "stdout",
     "output_type": "stream",
     "text": [
      "Mean Squared Error: 193.69782068865362\n",
      "R2 Score: 0.5230057616078957\n",
      "\n",
      "\n"
     ]
    }
   ],
   "source": [
    "model = CatBoostRegressor(verbose=False)\n",
    "model.fit(X_train, y_train)\n",
    "\n",
    "# Make predictions\n",
    "y_pred = model.predict(X_test)\n",
    "\n",
    "# Evaluate the model\n",
    "mse = mean_squared_error(y_test, y_pred)\n",
    "r2 = r2_score(y_test, y_pred)\n",
    "print(f\"Mean Squared Error: {mse}\")\n",
    "print(\"R2 Score:\", r2)\n",
    "print(\"\\n\")"
   ]
  },
  {
   "cell_type": "code",
   "execution_count": 28,
   "metadata": {},
   "outputs": [],
   "source": [
    "model = joblib.dump(model, 'model.pkl')\n",
    "vectorizer = joblib.dump(vectorizer, 'vectorizer.pkl')\n",
    "scaler = joblib.dump(scaler, 'scaler.pkl')"
   ]
  },
  {
   "cell_type": "code",
   "execution_count": 24,
   "metadata": {
    "colab": {
     "base_uri": "https://localhost:8080/",
     "height": 112
    },
    "id": "hNbgF7vqbpcN",
    "outputId": "fb7907b3-19b6-46a5-881f-0ef1d35542ca"
   },
   "outputs": [
    {
     "data": {
      "text/html": [
       "<div>\n",
       "<style scoped>\n",
       "    .dataframe tbody tr th:only-of-type {\n",
       "        vertical-align: middle;\n",
       "    }\n",
       "\n",
       "    .dataframe tbody tr th {\n",
       "        vertical-align: top;\n",
       "    }\n",
       "\n",
       "    .dataframe thead th {\n",
       "        text-align: right;\n",
       "    }\n",
       "</style>\n",
       "<table border=\"1\" class=\"dataframe\">\n",
       "  <thead>\n",
       "    <tr style=\"text-align: right;\">\n",
       "      <th></th>\n",
       "      <th>genre</th>\n",
       "      <th>runtime_in_minutes</th>\n",
       "      <th>tomatometer_rating</th>\n",
       "      <th>tomatometer_count</th>\n",
       "    </tr>\n",
       "  </thead>\n",
       "  <tbody>\n",
       "    <tr>\n",
       "      <th>0</th>\n",
       "      <td>Comedy</td>\n",
       "      <td>12</td>\n",
       "      <td>90</td>\n",
       "      <td>200</td>\n",
       "    </tr>\n",
       "    <tr>\n",
       "      <th>1</th>\n",
       "      <td>Action</td>\n",
       "      <td>23</td>\n",
       "      <td>45</td>\n",
       "      <td>100</td>\n",
       "    </tr>\n",
       "  </tbody>\n",
       "</table>\n",
       "</div>"
      ],
      "text/plain": [
       "    genre  runtime_in_minutes  tomatometer_rating  tomatometer_count\n",
       "0  Comedy                  12                  90                200\n",
       "1  Action                  23                  45                100"
      ]
     },
     "execution_count": 24,
     "metadata": {},
     "output_type": "execute_result"
    }
   ],
   "source": [
    "new_movie_data = pd.DataFrame({\n",
    "    'genre': ['Comedy','Action'],  # Example genre\n",
    "    'runtime_in_minutes': [12,23], # Example runtime\n",
    "    'tomatometer_rating': [90,45], # Example tomatometer rating\n",
    "    'tomatometer_count': [200,100] # Example tomatometer count\n",
    "})\n",
    "\n",
    "new_movie_data.head()"
   ]
  },
  {
   "cell_type": "code",
   "execution_count": 25,
   "metadata": {},
   "outputs": [],
   "source": [
    "model = joblib.load('P:/ML_PROJECTS/movies/notebook/model.pkl') \n",
    "vectorizer = joblib.load('P:/ML_PROJECTS/movies/notebook/vectorizer.pkl') # Replace 'your_vectorizer.joblib' with the actual file path\n",
    "scaler = joblib.load('P:/ML_PROJECTS/movies/notebook/scaler.pkl')"
   ]
  },
  {
   "cell_type": "code",
   "execution_count": 26,
   "metadata": {
    "colab": {
     "base_uri": "https://localhost:8080/"
    },
    "id": "dGZCKKdeem0m",
    "outputId": "fc31fa6d-a422-4276-b0b8-9c308eea10e9"
   },
   "outputs": [
    {
     "data": {
      "text/plain": [
       "array([85. , 56.2])"
      ]
     },
     "execution_count": 26,
     "metadata": {},
     "output_type": "execute_result"
    }
   ],
  
